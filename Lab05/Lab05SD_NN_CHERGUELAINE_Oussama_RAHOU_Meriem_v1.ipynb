{
 "cells": [
  {
   "cell_type": "markdown",
   "metadata": {},
   "source": [
    "# 2CSSID Lab05. Neural Networks\n",
    "\n",
    "<p style='text-align: right;font-style: italic;'>Designed by: Mr. Abdelkrime Aries</p>\n",
    "\n",
    "In this lab, we will learn about neural networks (NN).\n",
    "We will implement backpropagation to understand how a NN works.\n",
    "Then, we will test many concepts:\n",
    "- Parameters' initialization\n",
    "- Activation functions effect\n",
    "- Optimization functions for NN"
   ]
  },
  {
   "cell_type": "markdown",
   "metadata": {},
   "source": [
    "**Team:**\n",
    "- **Member 01**: CHERGUELAINE Oussama   \n",
    "- **Member 02**: RAHOU Meriem"
   ]
  },
  {
   "cell_type": "code",
   "execution_count": 2,
   "metadata": {},
   "outputs": [
    {
     "data": {
      "text/plain": [
       "('2.0.2', '2.2.3', '3.9.2')"
      ]
     },
     "execution_count": 2,
     "metadata": {},
     "output_type": "execute_result"
    }
   ],
   "source": [
    "import matplotlib\n",
    "import numpy             as np\n",
    "import pandas            as pd \n",
    "import matplotlib.pyplot as plt \n",
    "from matplotlib      import colors \n",
    "%matplotlib inline\n",
    "\n",
    "np.__version__, pd.__version__, matplotlib.__version__"
   ]
  },
  {
   "cell_type": "code",
   "execution_count": 3,
   "metadata": {},
   "outputs": [],
   "source": [
    "from sklearn.preprocessing import StandardScaler"
   ]
  },
  {
   "cell_type": "code",
   "execution_count": 4,
   "metadata": {},
   "outputs": [
    {
     "name": "stderr",
     "output_type": "stream",
     "text": [
      "WARNING: All log messages before absl::InitializeLog() is called are written to STDERR\n",
      "E0000 00:00:1733338239.029391   12849 cuda_dnn.cc:8310] Unable to register cuDNN factory: Attempting to register factory for plugin cuDNN when one has already been registered\n",
      "E0000 00:00:1733338239.069587   12849 cuda_blas.cc:1418] Unable to register cuBLAS factory: Attempting to register factory for plugin cuBLAS when one has already been registered\n"
     ]
    }
   ],
   "source": [
    "import logging, os\n",
    "logging.disable(logging.WARNING)\n",
    "os.environ['TF_CPP_MIN_LOG_LEVEL'] = '3'\n",
    "\n",
    "import tensorflow as tf\n",
    "from tensorflow              import keras\n",
    "from tensorflow.keras.layers import Input, Dense\n",
    "from tensorflow.keras.models import Sequential, Model\n"
   ]
  },
  {
   "cell_type": "code",
   "execution_count": 5,
   "metadata": {},
   "outputs": [],
   "source": [
    "from typing          import Tuple, List, Type, Union\n",
    "from collections.abc import Callable"
   ]
  },
  {
   "cell_type": "markdown",
   "metadata": {},
   "source": [
    "## I. Algorithms implementation\n",
    "\n",
    "In this section, we will try to implement a NN.\n",
    "A network is composed of many layers, each of many neurons.\n",
    "\n",
    "\n",
    "**>> Try to use \"numpy\" which will save a lot of time and effort** "
   ]
  },
  {
   "cell_type": "code",
   "execution_count": 10,
   "metadata": {},
   "outputs": [
    {
     "name": "stdout",
     "output_type": "stream",
     "text": [
      "This class is abstract; implement it\n",
      "This class is abstract; implement it\n",
      "works3\n"
     ]
    }
   ],
   "source": [
    "# API (Do not change, or you'll see double)\n",
    "# This is just an interface to define Activation and Loss functions' behaviour\n",
    "\n",
    "# =====================================================\n",
    "# =========== Activation function API =================\n",
    "# =====================================================\n",
    "class Activation(object): \n",
    "    \"\"\"Base Class to implement activation functions\"\"\"\n",
    "\n",
    "    def __init__(self):\n",
    "        raise Exception('This class is abstract; implement it')\n",
    "      \n",
    "    def activate(self, Z):\n",
    "        \"\"\"Calculates the activation based on Z\"\"\"\n",
    "        raise Exception('Must be implemented in child class')\n",
    "\n",
    "    def partial(self, Z, H):\n",
    "        \"\"\"Calculates partial derivative based on Z and the activation H\"\"\"\n",
    "        raise Exception('Must be implemented in child class')\n",
    "\n",
    "# =====================================================\n",
    "# ============== Loss function API ====================\n",
    "# =====================================================\n",
    "class Loss(object): \n",
    "    \"\"\"Base Class to implement loss functions\"\"\"\n",
    "\n",
    "    def __init__(self):\n",
    "        raise Exception('This class is abstract; implement it')\n",
    "\n",
    "    def calculate(self, H, Y):\n",
    "        \"\"\"Calculates the loss based on the infered output H and the real output Y\"\"\"\n",
    "        raise Exception('Must be implemented in child class')\n",
    "    \n",
    "    def partial(self, H, Y):\n",
    "        \"\"\"Calculates partial derivative based on the infered output H and the real output Y\"\"\"\n",
    "        raise Exception('Must be implemented in child class')\n",
    "\n",
    "#=====================================================================\n",
    "# UNIT TEST\n",
    "#=====================================================================\n",
    "# Result: \n",
    "# This class is abstract; implement it\n",
    "# This class is abstract; implement it\n",
    "# works3\n",
    "#---------------------------------------------------------------------\n",
    "\n",
    "try:\n",
    "    aa = Activation()\n",
    "    print('works1')\n",
    "except Exception as e:\n",
    "    print(e)\n",
    "try:\n",
    "    ll = Loss()\n",
    "    print('works2')\n",
    "except Exception as e:\n",
    "    print(e)\n",
    "\n",
    "class ActivationChild(Activation):\n",
    "    def __init__(self):\n",
    "        pass\n",
    "try:\n",
    "    aa = ActivationChild()\n",
    "    print('works3')\n",
    "except Exception as e:\n",
    "    print(e)"
   ]
  },
  {
   "cell_type": "markdown",
   "metadata": {},
   "source": [
    "### I.1. Activation functions\n",
    "\n",
    "You have to implement both logistic regression and ReLU activation functions. \n",
    "\n",
    "Logistic regression:\n",
    "$$H = \\sigma(Z) = \\frac{1}{1+e^{-Z}} \\ \\ \\ \\ \\ \\ \\frac{\\partial \\sigma(Z)}{\\partial Z} = \\sigma(Z) (1-\\sigma(Z))$$\n",
    "\n",
    "ReLU:\n",
    "$$H = ReLU(Z) = \\begin{cases} Z & \\text{if } Z > 0 \\\\ 0 & \\text{otherwise}\\end{cases}\n",
    "\\ \\ \\ \\ \\ \\ \n",
    "\\frac{\\partial ReLU(Z)}{\\partial Z} = \\begin{cases} 1 & \\text{if } Z > 0 \\\\ 0 & \\text{otherwise}\\end{cases}$$\n"
   ]
  },
  {
   "cell_type": "code",
   "execution_count": 57,
   "metadata": {},
   "outputs": [
    {
     "data": {
      "text/plain": [
       "(array([0.84104179, 0.84290453]), array([0.1336905 , 0.13241648]))"
      ]
     },
     "execution_count": 57,
     "metadata": {},
     "output_type": "execute_result"
    }
   ],
   "source": [
    "# TODO: Logistic Activation class\n",
    "class Logistic(Activation):\n",
    "    def __init__(self):\n",
    "        pass\n",
    "    def activate(self, Z):\n",
    "        return  1 / (1 + np.exp(-Z))\n",
    "    def partial(self, arr, arr2):\n",
    "        return self.activate(arr) * (1 - self.activate(arr))\n",
    "\n",
    "#=====================================================================\n",
    "# UNIT TEST\n",
    "#=====================================================================\n",
    "# Result: \n",
    "# (array([0.84104179, 0.84290453]), array([0.1336905 , 0.13241648]))\n",
    "#---------------------------------------------------------------------\n",
    "\n",
    "lg = Logistic()\n",
    "z4_1       = np.array([1.666, 1.68])\n",
    "a4_1       = lg.activate(z4_1)\n",
    "a4_1p      = lg.partial(z4_1, a4_1)\n",
    "\n",
    "a4_1, a4_1p"
   ]
  },
  {
   "cell_type": "code",
   "execution_count": 53,
   "metadata": {},
   "outputs": [
    {
     "data": {
      "text/plain": [
       "(array([0, 2, 0]), array([0, 1, 0]))"
      ]
     },
     "execution_count": 53,
     "metadata": {},
     "output_type": "execute_result"
    }
   ],
   "source": [
    "# TODO: ReLU Activation class\n",
    "class ReLU(Activation):\n",
    "    def __init__(self):\n",
    "        pass\n",
    "    def activate(self, Z):\n",
    "        return np.maximum(0, Z)\n",
    "    def partial(self, Z, H):\n",
    "        return (Z > 0).astype(int)\n",
    "\n",
    "#=====================================================================\n",
    "# UNIT TEST\n",
    "#=====================================================================\n",
    "# Result: \n",
    "# (array([0., 2., 0.]), array([0., 1., 0.]))\n",
    "#---------------------------------------------------------------------\n",
    "\n",
    "relu = ReLU()\n",
    "z_t  = np.array([0, 2, -3])\n",
    "a_t  = relu.activate(z_t)\n",
    "p_t  = relu.partial(z_t, a_t)\n",
    "\n",
    "a_t, p_t"
   ]
  },
  {
   "cell_type": "markdown",
   "metadata": {},
   "source": [
    "### I.2. Loss functions\n",
    "\n",
    "Binary Cross ntropy (BCE) loss function is calculated as:\n",
    "$$BCE(Y, H) = - ( Y \\log(H) + (1-Y) \\log(1-H))$$\n",
    "\n",
    "It's derivative is calculated as:\n",
    "$$\\frac{\\partial BCE}{\\partial H} = \\frac{H-Y}{H - H^2}$$"
   ]
  },
  {
   "cell_type": "code",
   "execution_count": 58,
   "metadata": {},
   "outputs": [
    {
     "data": {
      "text/plain": [
       "(array([1.83258146, 0.17078832]), array([ 6.25      , -1.18623962]))"
      ]
     },
     "execution_count": 58,
     "metadata": {},
     "output_type": "execute_result"
    }
   ],
   "source": [
    "# TODO: BCE Loss class\n",
    "class BCE(Loss):\n",
    "    def __init__(self):\n",
    "        pass\n",
    "\n",
    "    def calculate(self, H, Y):\n",
    "        # Avoid log(0) issues by clipping H to a safe range\n",
    "        # H = np.clip(H, 1e-15, 1 - 1e-15)\n",
    "        return -(Y * np.log(H) + (1 - Y) * np.log(1 - H))\n",
    "    \n",
    "    def partial(self, H, Y):\n",
    "        # Derivative of BCE with respect to H\n",
    "        # H = np.clip(H, 1e-15, 1 - 1e-15)  # To avoid division by zero\n",
    "        return (H - Y) / (H * (1 - H))\n",
    "\n",
    "#=====================================================================\n",
    "# UNIT TEST\n",
    "#=====================================================================\n",
    "# Result: \n",
    "# (array([1.83258146, 0.17078832]), array([ 6.25      , -1.18623962]))\n",
    "#---------------------------------------------------------------------\n",
    "\n",
    "bce = BCE()\n",
    "\n",
    "H = np.array([0.840 , 0.843])\n",
    "Y = np.array([0., 1.])\n",
    "J = bce.calculate(H, Y)\n",
    "DJ = bce.partial(H, Y)\n",
    "\n",
    "J, DJ"
   ]
  },
  {
   "cell_type": "markdown",
   "metadata": {},
   "source": [
    "### I.3. Neuron\n",
    "\n",
    "Let us implement retropropagation of one neuron.\n",
    "\n",
    "$$\\delta^{(l)} = \\frac{\\partial f^{(l)}}{\\partial z^{(l)}} w^{(l+1)} \\delta^{(l+1)}$$\n",
    "\n",
    "$$\\frac{\\partial J}{\\partial w^{(l)}} = a^{(l-1)} \\delta^{(l)}$$\n",
    "\n",
    "$$\\frac{\\partial J}{\\partial b^{(l)}} = \\delta^{(l)}$$\n",
    "\n",
    "The product is a matrix product (on $M$) and we must take the average of the outputs (on $Ln$).\n",
    "\n",
    "The function that updates the parameters takes as input:\n",
    "- $W[L_p]$ a list of weights; a vector of size $L_p$ (the number of neurons in the previous layer)\n",
    "- $b$ bias\n",
    "- $Z[M]$ the linear combination of the current neuron; a vector of size $M$ (the number of samples)\n",
    "- $A[M]$ the activation of the current neuron; a vector of size $M$\n",
    "- $A\\_past[M, L_p]$ the activations of the neurons of the previous layer; a matrix of size is $(M * L_p)$\n",
    "- $Delta\\_next[M, Ln]$ the delta calculated in the next layer; a matrix of size $M * L_n$ ($L_n$: the number of neurons in the next layer)\n",
    "- $W\\_next[Ln]$ the weights to the next layer; a vector of size $Ln$\n",
    "- $act$ is an \"Activation\" type object; it provides two methods: \"act.activate\" and \"act.partial\"\n",
    "- $alpha$ the training step"
   ]
  },
  {
   "cell_type": "code",
   "execution_count": 59,
   "metadata": {},
   "outputs": [
    {
     "data": {
      "text/plain": [
       "(array([0.49375218, 0.2046736 ]),\n",
       " np.float64(-0.30324311473938026),\n",
       " array([ 0.00696306, -0.00047683]))"
      ]
     },
     "execution_count": 59,
     "metadata": {},
     "output_type": "execute_result"
    }
   ],
   "source": [
    "# TODO: Neuron Backpropagation\n",
    "def backpropagate_neuron(W, b, Z, A, A_past, Delta_next, W_next, act, alpha=1.):\n",
    "    \n",
    "    Delta = np.dot(W_next, Delta_next.T) * act.partial(Z, A)\n",
    "    bn    = b - alpha * np.mean(Delta, axis=0)\n",
    "    Wn    = W - alpha * np.dot(Delta.T, A_past) / A_past.shape[0]\n",
    "    return Wn, bn, Delta\n",
    "\n",
    "#=====================================================================\n",
    "# UNIT TEST \n",
    "#=====================================================================\n",
    "# Result: \n",
    "# (array([0.49375218, 0.2046736 ]),\n",
    "#  -0.30324311474187016,\n",
    "#  array([ 0.00696306, -0.00047683]))\n",
    "#---------------------------------------------------------------------\n",
    "\n",
    "W_t = np.array([0.5, 0.2])\n",
    "b_t = -0.3\n",
    "Z_t = np.array([0.5, 2.2])\n",
    "\n",
    "# A_t[M] (This neuron's current activation)\n",
    "A_t = np.array([0.62245933, 0.90024951])\n",
    "\n",
    "# A_past_t[M, L_p] (This neuron's past layer's activations)\n",
    "A_past_t = np.array([[2., -1.], [3., 5.]])\n",
    "\n",
    "# Delta_next_t[M, L_n] (This neuron's next layer's deltas)\n",
    "Delta_next_t = np.array([[ 0.14523862, -0.02613822], [ 0.1394202, -0.02531591]]).T\n",
    "\n",
    "# W_next_t[L_n] (This neuron's next layer's Weights)\n",
    "W_next_t = np.array([0.3, -0.1])\n",
    "\n",
    "act = Logistic() # Activation function\n",
    "\n",
    "W_nouv, b_nouv, Delta_nouv = backpropagate_neuron(W_t, b_t, Z_t, A_t, A_past_t, Delta_next_t, W_next_t, act, alpha=1.)\n",
    "\n",
    "W_nouv, b_nouv, Delta_nouv"
   ]
  },
  {
   "cell_type": "code",
   "execution_count": 60,
   "metadata": {},
   "outputs": [
    {
     "name": "stdout",
     "output_type": "stream",
     "text": [
      "z2_1 = [0.5 2.2]\n",
      "a2_1 = [0.62245933 0.90024951]\n",
      "partial(a2_1) = 0.25\n",
      "past b = -0.3\n",
      "past w = [0.5 0.2]\n",
      "delta2 = [ 0.00696306 -0.00047683]\n",
      "new b = -0.30324311473938026\n",
      "new w = [0.49375218 0.2046736 ]\n"
     ]
    }
   ],
   "source": [
    "# Nothing to do here \n",
    "class Neuron(object):\n",
    "    def __init__(self, in_size, activation=Logistic()):\n",
    "        self.b   = 0.\n",
    "        self.w   = np.array([0.] * in_size)\n",
    "        self.act = activation\n",
    "        \n",
    "    def randomize(self):\n",
    "        self.w = np.random.rand(len(self.w))\n",
    "        self.b = np.random.rand(1)[0]\n",
    "        \n",
    "    def __aggregate(self, X):\n",
    "        return np.dot(X, self.w) + self.b\n",
    "    \n",
    "    def activate(self, X):\n",
    "        self.a_past = X\n",
    "        self.z      = self.__aggregate(X)\n",
    "        self.a      = self.act.activate(self.z)\n",
    "        return self.a\n",
    "    \n",
    "    def update(self, delta_next, w_next, alpha=1.):\n",
    "        w_past                = self.w.copy()\n",
    "        self.w, self.b, delta = backpropagate_neuron(self.w, self.b, self.z, self.a, self.a_past, delta_next, w_next, self.act, alpha=alpha)\n",
    "        return delta, w_past\n",
    "\n",
    "#=====================================================================\n",
    "# UNIT TEST\n",
    "#=====================================================================\n",
    "# Result: \n",
    "# z2_1 = [0.5 2.2]\n",
    "# a2_1 = [0.62245933 0.90024951]\n",
    "# partial(a2_1) = [0.23500371 0.08980033]\n",
    "# past b = -0.3\n",
    "# past w = [0.5 0.2]\n",
    "# delta2 = [ 0.00696306 -0.00047683]\n",
    "# new b = -0.30324311473938026\n",
    "# new w = [0.49375218 0.2046736 ]\n",
    "#---------------------------------------------------------------------\n",
    "\n",
    "# New neuron with two inputs\n",
    "n = Neuron(2)\n",
    "# ---------------------\n",
    "# We should not affect the weights directly\n",
    "# Here, it's just to have the same weights of the output neuron in the example seen in the lecture\n",
    "# We will reproduce the parameters of neuron 1 hidden layer 1 (layer 2)\n",
    "n.b = -0.3\n",
    "n.w = np.array([0.5, 0.2])\n",
    "# ---------------------\n",
    "\n",
    "# M X Lp (Here A1 = X; the input)\n",
    "A1 = np.array([[2., -1.], [3., 5.]])\n",
    "# M X Ln (Delta of the next layer)\n",
    "Delta3 = np.array([[ 0.14523862, -0.02613822], [ 0.1394202, -0.02531591]]).T\n",
    "W3_1 = np.array([0.3, -0.1])\n",
    "\n",
    "\n",
    "A2_1 = n.activate(A1)\n",
    "print(\"z2_1 = \" + str(n.z))\n",
    "print(\"a2_1 = \" + str(A2_1))\n",
    "# The partial derivative of logistic function does not need Z, so we pass 0 (to not calculte it)\n",
    "print(\"partial(a2_1) = \" + str(n.act.partial(0, A2_1)))\n",
    "print(\"past b = \" + str(n.b))\n",
    "\n",
    "Delta2, W2_past = n.update(Delta3, W3_1) \n",
    "\n",
    "print(\"past w = \" + str(W2_past))\n",
    "print(\"delta2 = \" + str(Delta2))\n",
    "print(\"new b = \" + str(n.b))\n",
    "print(\"new w = \" + str(n.w))"
   ]
  },
  {
   "cell_type": "markdown",
   "metadata": {},
   "source": [
    "### I.4. Layer\n",
    "\n",
    "A layer is a list of neurons.\n",
    "In this case, the packpropagation of the layer takes:\n",
    "- **neurons**: a list of activated neurons.\n",
    "- **Delta_next**: Delta from the next layer.\n",
    "- **W_next**: next layer's weights\n",
    "- **alpha**: learning rate\n",
    "\n",
    "The function returns a tuple:\n",
    "- Deltas of the current layer (all neurons)\n",
    "- Past weights of the current layer (all neurons)"
   ]
  },
  {
   "cell_type": "code",
   "execution_count": 64,
   "metadata": {},
   "outputs": [
    {
     "name": "stdout",
     "output_type": "stream",
     "text": [
      "deltas : [[ 0.00696306  0.00682726]\n",
      " [-0.00047683 -0.00017109]]\n",
      "past W : [[ 0.00696306  0.00682726]\n",
      " [-0.00047683 -0.00017109]]\n"
     ]
    }
   ],
   "source": [
    "# TODO: Layer Backpropagation\n",
    "def backpropagate_layer(neurons, Delta_next, W_next, alpha=1.):\n",
    "    W_pasts = []\n",
    "    Deltas  = []\n",
    "    for i, neuron in enumerate(neurons):\n",
    "        delta, w_past = neuron.update(Delta_next, W_next[i], alpha=alpha)\n",
    "        Deltas.append(delta)\n",
    "        W_pasts.append(w_past)\n",
    "    return np.array(Deltas).T, np.array(W_pasts).T\n",
    "\n",
    "\n",
    "#=====================================================================\n",
    "# UNIT TEST\n",
    "#=====================================================================\n",
    "# Result: \n",
    "# deltas : [[ 0.00696306  0.00682726]\n",
    "#  [-0.00047683 -0.00017109]]\n",
    "# past W : [[ 0.00696306  0.00682726]\n",
    "#  [-0.00047683 -0.00017109]]\n",
    "#---------------------------------------------------------------------\n",
    "\n",
    "\n",
    "neurons_t = [Neuron(2), Neuron(2)]\n",
    "\n",
    "# We should not directly assign  weights \n",
    "# Here, it is just to have the same weights of the output neuron of the lecture's example\n",
    "neurons_t[0].b = -0.3\n",
    "neurons_t[0].w = np.array([0.5, 0.2])\n",
    "neurons_t[1].b = 0.5\n",
    "neurons_t[1].w = np.array([0.3, 0.4])\n",
    "\n",
    "delta3 = np.array([[ 0.14523862, -0.02613822], [ 0.1394202, -0.02531591]]).T\n",
    "w3 = np.array([[0.3, -0.1],[0.5, -0.3]])\n",
    "\n",
    "a1 = np.array([[2., -1.], [3., 5.]])\n",
    "neurons_t[0].activate(a1)\n",
    "neurons_t[1].activate(a1)\n",
    "\n",
    "Deltas2, W_pasts2 = backpropagate_layer(neurons_t, delta3, w3)\n",
    "\n",
    "print(\"deltas : \" + str(Deltas2))\n",
    "print(\"past W : \" + str(Deltas2))"
   ]
  },
  {
   "cell_type": "code",
   "execution_count": 65,
   "metadata": {},
   "outputs": [
    {
     "name": "stdout",
     "output_type": "stream",
     "text": [
      "Activations: [[0.62245933 0.66818777]\n",
      " [0.90024951 0.96770454]]\n",
      "Deltas: [[ 0.00696306  0.00682726]\n",
      " [-0.00047683 -0.00017109]]\n"
     ]
    }
   ],
   "source": [
    "# Do not edit\n",
    "class Layer(object):\n",
    "    \n",
    "    def __init__(self, size, in_size, activation=Logistic()):\n",
    "        self.neurons = [Neuron(in_size, activation=activation) for i in range(size)]\n",
    "        \n",
    "    def randomize(self):\n",
    "        for neuron in self.neurons:\n",
    "            neuron.randomize()\n",
    "\n",
    "    def forward(self, X):\n",
    "        activations = []\n",
    "        for neuron in self.neurons:\n",
    "            activations.append(neuron.activate(X))\n",
    "        return np.array(activations).T\n",
    "    \n",
    "    def backward(self, Delta_next, W_next, alpha=1.):\n",
    "        return backpropagate_layer(self.neurons, Delta_next, W_next, alpha=alpha)\n",
    "\n",
    "\n",
    "\n",
    "#=====================================================================\n",
    "# UNIT TEST\n",
    "#=====================================================================\n",
    "# Result: \n",
    "# Activations: [[0.62245933 0.66818777]\n",
    "#  [0.90024951 0.96770454]]\n",
    "# Deltas: [[ 0.00696306  0.00682726]\n",
    "#  [-0.00047683 -0.00017109]]\n",
    "#---------------------------------------------------------------------\n",
    "\n",
    "# layer 2 (2 neurons, 2 inputs)\n",
    "c2 = Layer(2, 2)\n",
    "\n",
    "# We should not directly assign  weights \n",
    "# Here, it is just to have the same weights of the output neuron of the lecture's example\n",
    "c2.neurons[0].b = -0.3\n",
    "c2.neurons[0].w = np.array([0.5, 0.2])\n",
    "c2.neurons[1].b = 0.5\n",
    "c2.neurons[1].w = np.array([0.3, 0.4])\n",
    "\n",
    "delta3 = np.array([[ 0.14523862, -0.02613822], [ 0.1394202, -0.02531591]]).T\n",
    "w3 = np.array([[0.3, -0.1],[0.5, -0.3]])\n",
    "\n",
    "a1 = np.array([[2., -1.], [3., 5.]])\n",
    "a2 = c2.forward(a1)\n",
    "print(\"Activations: \" + str(a2))\n",
    "\n",
    "Deltas2, W_pasts2 = c2.backward(delta3, w3)\n",
    "\n",
    "print(\"Deltas: \" + str(Deltas2))"
   ]
  },
  {
   "cell_type": "markdown",
   "metadata": {},
   "source": [
    "### I.5. Network\n",
    "\n",
    "A network is composed of a list of layers.\n",
    "Here, we want to implement backpropagation over layers (from the last one into the first)\n",
    "\n",
    "\n",
    "For the last layer:\n",
    "- w_past is a list of ones of the this layer's size. Such as [[1.], [1.], ...]\n",
    "- delta_past is the gradient of the loss function \"J_prime\" which must be calculated using the cost function, the output H and the real output Y\n",
    "\n",
    "Then, each layer apply a backpropagation and returns delta_past, w_past which will be fed into the previous layer.\n",
    "\n",
    "The function must return the cost J which is the average of all losses"
   ]
  },
  {
   "cell_type": "code",
   "execution_count": 66,
   "metadata": {},
   "outputs": [
    {
     "name": "stdout",
     "output_type": "stream",
     "text": [
      "w4_1 = [0.51494626 0.56592079]\n",
      "w3_1 = [0.2665629 0.4641237]\n",
      "w3_2 = [-0.13199638 -0.33433028]\n",
      "w2_1 = [0.49375219 0.2046736 ]\n",
      "w2_2 = [0.29342937 0.40384135]\n"
     ]
    },
    {
     "data": {
      "text/plain": [
       "np.float64(1.0020916974430965)"
      ]
     },
     "execution_count": 66,
     "metadata": {},
     "output_type": "execute_result"
    }
   ],
   "source": [
    "# TODO: Network Backpropagation\n",
    "def backpropagate_network(layers, cost, H, Y):\n",
    "    delta_past = cost.partial(H, Y)\n",
    "    w_past = np.ones((layers[-1].neurons[0].w.shape[0], 1))\n",
    "    \n",
    "    for layer in reversed(layers):\n",
    "        delta_past, w_past = layer.backward(delta_past, w_past, alpha=1.0)\n",
    "    \n",
    "    J = np.mean(cost.calculate(H, Y))\n",
    "    \n",
    "    return J\n",
    "\n",
    "#=====================================================================\n",
    "# UNIT TEST\n",
    "#=====================================================================\n",
    "# Result: \n",
    "# w4_1 = [0.51494626 0.56592079]\n",
    "# w3_1 = [0.2665629 0.4641237]\n",
    "# w3_2 = [-0.13199638 -0.33433028]\n",
    "# w2_1 = [0.49375219 0.2046736 ]\n",
    "# w2_2 = [0.29342937 0.40384135]\n",
    "# 1.0020916974430965\n",
    "#---------------------------------------------------------------------\n",
    "\n",
    "X = np.array([[2., -1.], [3., 5.]])\n",
    "Y = np.array([[0.], [1.]])\n",
    "\n",
    "layers = [ Layer(2, 2), Layer(2, 2), Layer(1, 2) ]\n",
    "\n",
    "# We should not directly assign  weights \n",
    "# Here, it is just to have the same weights of the output neuron of the lecture's example\n",
    "layers[0].neurons[0].b = -0.3\n",
    "layers[0].neurons[0].w = np.array([0.5, 0.2])\n",
    "layers[0].neurons[1].b = 0.5\n",
    "layers[0].neurons[1].w = np.array([0.3, 0.4])\n",
    "\n",
    "layers[1].neurons[0].b = -0.3\n",
    "layers[1].neurons[0].w = np.array([0.3, 0.5])\n",
    "layers[1].neurons[1].b = -0.2\n",
    "layers[1].neurons[1].w = np.array([-0.1, -0.3])\n",
    "\n",
    "layers[2].neurons[0].b = 1.\n",
    "layers[2].neurons[0].w = np.array([0.7, 0.7])\n",
    "\n",
    "H = X\n",
    "for layer in layers:\n",
    "    H = layer.forward(H)\n",
    "\n",
    "J = backpropagate_network(layers, bce, H, Y)\n",
    "\n",
    "print(\"w4_1 = \" + str(layers[2].neurons[0].w))\n",
    "print(\"w3_1 = \" + str(layers[1].neurons[0].w))\n",
    "print(\"w3_2 = \" + str(layers[1].neurons[1].w))\n",
    "print(\"w2_1 = \" + str(layers[0].neurons[0].w))\n",
    "print(\"w2_2 = \" + str(layers[0].neurons[1].w))\n",
    "\n",
    "J\n"
   ]
  },
  {
   "cell_type": "code",
   "execution_count": 67,
   "metadata": {},
   "outputs": [
    {
     "name": "stdout",
     "output_type": "stream",
     "text": [
      "cost = 1.0020916974430965\n",
      "w4_1 = [0.51494626 0.56592079]\n",
      "w3_1 = [0.2665629 0.4641237]\n",
      "w3_2 = [-0.13199638 -0.33433028]\n",
      "w2_1 = [0.49375219 0.2046736 ]\n",
      "w2_2 = [0.29342937 0.40384135]\n",
      "Prediction: [0 1]\n"
     ]
    }
   ],
   "source": [
    "# Do not change\n",
    "class NN(object):\n",
    "    def __init__(self, in_size, cost=bce, alpha=1.):\n",
    "        self.current_size = in_size # the last layer's size \n",
    "        self.cost = cost\n",
    "        self.alpha = alpha\n",
    "        self.layers = []\n",
    "\n",
    "    def add_layer(self, size, activation=Logistic()):\n",
    "        new_layer = Layer(size, self.current_size, activation=activation)\n",
    "        self.layers.append(new_layer)\n",
    "        self.current_size = size\n",
    "        \n",
    "    def randomize(self):\n",
    "        for layer in self.layers:\n",
    "            layer.randomize()\n",
    "    \n",
    "    def predict(self, X): \n",
    "        Y = X\n",
    "        if self.norm:\n",
    "            Y = np.where(self.std==0, X, (X - self.mean)/self.std)\n",
    "            \n",
    "        for layer in self.layers:\n",
    "            Y = layer.forward(Y)\n",
    "        if Y.ndim == 2 and Y.shape[1] == 1:\n",
    "            Y = Y.flatten()\n",
    "        return np.where(Y < 0.5, 0, 1)\n",
    "    \n",
    "    \n",
    "    def _one_iteration(self, X, Y):\n",
    "        # forward propagation\n",
    "        a = X\n",
    "        for layer in self.layers:\n",
    "            a = layer.forward(a)\n",
    "            \n",
    "        # cost and its derivative calculation\n",
    "        YY = np.array(Y)\n",
    "        if YY.ndim < 2 : \n",
    "            YY = YY[:, np.newaxis]\n",
    "        \n",
    "        # backward propagation \n",
    "        J = backpropagate_network(self.layers, self.cost, a, YY)\n",
    "    \n",
    "        return J\n",
    "    \n",
    "    def fit(self, X, Y, nbr_it=100, norm=False):\n",
    "        costs = []\n",
    "        X_norm = X\n",
    "        self.norm = norm\n",
    "        if norm:\n",
    "            self.mean = np.mean(X, axis=0)\n",
    "            self.std = np.std(X, axis=0)\n",
    "            X_norm = np.where(self.std==0, X, (X - self.mean)/self.std)\n",
    "\n",
    "        for i in range(nbr_it): \n",
    "            J = self._one_iteration(X_norm, Y)\n",
    "            costs.append(J)\n",
    "        return costs\n",
    "    \n",
    "#=====================================================================\n",
    "# UNIT TEST\n",
    "#=====================================================================\n",
    "# Result: \n",
    "# cost = 1.0020916974430965\n",
    "# w4_1 = [0.51494626 0.56592079]\n",
    "# w3_1 = [0.2665629 0.4641237]\n",
    "# w3_2 = [-0.13199638 -0.33433028]\n",
    "# w2_1 = [0.49375219 0.2046736 ]\n",
    "# w2_2 = [0.29342937 0.40384135]\n",
    "# Prediction: [0 1]\n",
    "#---------------------------------------------------------------------\n",
    "\n",
    "X = np.array([[2., -1.], [3., 5.]])\n",
    "Y = np.array([0., 1.])\n",
    "\n",
    "nn = NN(2) # 2 features\n",
    "nn.add_layer(2) # add a hidden layer with 2 neurons\n",
    "nn.add_layer(2) # add a hidden layer with 2 neurons\n",
    "nn.add_layer(1) # add an output layer with 1 neuron\n",
    "\n",
    "# We should not affect the weights directly\n",
    "# Here, it's just to have the same weights of the output neuron in the example seen in the lecture\n",
    "nn.layers[0].neurons[0].b = -0.3\n",
    "nn.layers[0].neurons[0].w = np.array([0.5, 0.2])\n",
    "nn.layers[0].neurons[1].b = 0.5\n",
    "nn.layers[0].neurons[1].w = np.array([0.3, 0.4])\n",
    "\n",
    "nn.layers[1].neurons[0].b = -0.3\n",
    "nn.layers[1].neurons[0].w = np.array([0.3, 0.5])\n",
    "nn.layers[1].neurons[1].b = -0.2\n",
    "nn.layers[1].neurons[1].w = np.array([-0.1, -0.3])\n",
    "\n",
    "nn.layers[2].neurons[0].b = 1.\n",
    "nn.layers[2].neurons[0].w = np.array([0.7, 0.7])\n",
    "\n",
    "J = nn._one_iteration(X, Y)\n",
    "\n",
    "print(\"cost = \" + str(J))\n",
    "print(\"w4_1 = \" + str(nn.layers[2].neurons[0].w))\n",
    "print(\"w3_1 = \" + str(nn.layers[1].neurons[0].w))\n",
    "print(\"w3_2 = \" + str(nn.layers[1].neurons[1].w))\n",
    "print(\"w2_1 = \" + str(nn.layers[0].neurons[0].w))\n",
    "print(\"w2_2 = \" + str(nn.layers[0].neurons[1].w))\n",
    "\n",
    "nn.fit(X, Y, nbr_it=200)\n",
    "print(\"Prediction: \" + str(nn.predict(X)))\n"
   ]
  },
  {
   "cell_type": "markdown",
   "metadata": {},
   "source": [
    "## II. Application and Analysis\n",
    "\n",
    "In this section, we will test different concepts by running an experiment, formulating a hypothesis and trying to justify it.\n",
    "To do this, we will use a light version of diabetes dataset."
   ]
  },
  {
   "cell_type": "code",
   "execution_count": 6,
   "metadata": {},
   "outputs": [
    {
     "data": {
      "text/html": [
       "<div>\n",
       "<style scoped>\n",
       "    .dataframe tbody tr th:only-of-type {\n",
       "        vertical-align: middle;\n",
       "    }\n",
       "\n",
       "    .dataframe tbody tr th {\n",
       "        vertical-align: top;\n",
       "    }\n",
       "\n",
       "    .dataframe thead th {\n",
       "        text-align: right;\n",
       "    }\n",
       "</style>\n",
       "<table border=\"1\" class=\"dataframe\">\n",
       "  <thead>\n",
       "    <tr style=\"text-align: right;\">\n",
       "      <th></th>\n",
       "      <th>Pregnancies</th>\n",
       "      <th>Glucose</th>\n",
       "      <th>BloodPressure</th>\n",
       "      <th>SkinThickness</th>\n",
       "      <th>Insulin</th>\n",
       "      <th>BMI</th>\n",
       "      <th>DiabetesPedigreeFunction</th>\n",
       "      <th>Age</th>\n",
       "      <th>Outcome</th>\n",
       "    </tr>\n",
       "  </thead>\n",
       "  <tbody>\n",
       "    <tr>\n",
       "      <th>0</th>\n",
       "      <td>6</td>\n",
       "      <td>148</td>\n",
       "      <td>72</td>\n",
       "      <td>35</td>\n",
       "      <td>0</td>\n",
       "      <td>33.6</td>\n",
       "      <td>0.627</td>\n",
       "      <td>50</td>\n",
       "      <td>1</td>\n",
       "    </tr>\n",
       "    <tr>\n",
       "      <th>1</th>\n",
       "      <td>1</td>\n",
       "      <td>85</td>\n",
       "      <td>66</td>\n",
       "      <td>29</td>\n",
       "      <td>0</td>\n",
       "      <td>26.6</td>\n",
       "      <td>0.351</td>\n",
       "      <td>31</td>\n",
       "      <td>0</td>\n",
       "    </tr>\n",
       "    <tr>\n",
       "      <th>2</th>\n",
       "      <td>8</td>\n",
       "      <td>183</td>\n",
       "      <td>64</td>\n",
       "      <td>0</td>\n",
       "      <td>0</td>\n",
       "      <td>23.3</td>\n",
       "      <td>0.672</td>\n",
       "      <td>32</td>\n",
       "      <td>1</td>\n",
       "    </tr>\n",
       "    <tr>\n",
       "      <th>3</th>\n",
       "      <td>1</td>\n",
       "      <td>89</td>\n",
       "      <td>66</td>\n",
       "      <td>23</td>\n",
       "      <td>94</td>\n",
       "      <td>28.1</td>\n",
       "      <td>0.167</td>\n",
       "      <td>21</td>\n",
       "      <td>0</td>\n",
       "    </tr>\n",
       "    <tr>\n",
       "      <th>4</th>\n",
       "      <td>0</td>\n",
       "      <td>137</td>\n",
       "      <td>40</td>\n",
       "      <td>35</td>\n",
       "      <td>168</td>\n",
       "      <td>43.1</td>\n",
       "      <td>2.288</td>\n",
       "      <td>33</td>\n",
       "      <td>1</td>\n",
       "    </tr>\n",
       "  </tbody>\n",
       "</table>\n",
       "</div>"
      ],
      "text/plain": [
       "   Pregnancies  Glucose  BloodPressure  SkinThickness  Insulin   BMI  \\\n",
       "0            6      148             72             35        0  33.6   \n",
       "1            1       85             66             29        0  26.6   \n",
       "2            8      183             64              0        0  23.3   \n",
       "3            1       89             66             23       94  28.1   \n",
       "4            0      137             40             35      168  43.1   \n",
       "\n",
       "   DiabetesPedigreeFunction  Age  Outcome  \n",
       "0                     0.627   50        1  \n",
       "1                     0.351   31        0  \n",
       "2                     0.672   32        1  \n",
       "3                     0.167   21        0  \n",
       "4                     2.288   33        1  "
      ]
     },
     "execution_count": 6,
     "metadata": {},
     "output_type": "execute_result"
    }
   ],
   "source": [
    "# diabetes2\n",
    "diabetes   = pd.read_csv(\"data/diabetes2.csv\") \n",
    "X_diabetes = diabetes.iloc[:, :-1].values  \n",
    "Y_diabetes = diabetes.iloc[:,  -1].values\n",
    "\n",
    "# This configuration is on purpose\n",
    "# to test the case where regression is disfavored\n",
    "NBR_TEST   = 240\n",
    "# Assuming the first 30% rows are for testing and the rest for training\n",
    "X_test     = X_diabetes[-NBR_TEST:, :] # 30% or more\n",
    "Y_test     = Y_diabetes[-NBR_TEST:   ].reshape([-1, 1])\n",
    "\n",
    "X_train    = X_diabetes[:-NBR_TEST, :] \n",
    "Y_train    = Y_diabetes[:-NBR_TEST   ].reshape([-1, 1])\n",
    "\n",
    "diabetes.head()"
   ]
  },
  {
   "cell_type": "code",
   "execution_count": 7,
   "metadata": {},
   "outputs": [
    {
     "data": {
      "text/plain": [
       "array([[ 0.63564802,  0.83833016,  0.16863427,  0.93506705, -0.67560188,\n",
       "         0.22006711,  0.42947843,  1.43582544],\n",
       "       [-0.85203884, -1.09137813, -0.14214721,  0.55085273, -0.67560188,\n",
       "        -0.63225191, -0.38057337, -0.18535642],\n",
       "       [ 1.23072277,  1.91039032, -0.24574104, -1.30618316, -0.67560188,\n",
       "        -1.03405944,  0.56155209, -0.10003106],\n",
       "       [-0.85203884, -0.96885697, -0.14214721,  0.16663841,  0.12145706,\n",
       "        -0.44961212, -0.92060791, -1.03861003],\n",
       "       [-1.14957621,  0.50139697, -1.48886696,  0.93506705,  0.74892899,\n",
       "         1.37678577,  5.30446409, -0.0147057 ]])"
      ]
     },
     "execution_count": 7,
     "metadata": {},
     "output_type": "execute_result"
    }
   ],
   "source": [
    "scaler   = StandardScaler()\n",
    "X_trains = scaler.fit_transform(X_train)\n",
    "X_tests  = scaler.transform(X_test)\n",
    "\n",
    "X_trains[:5, :]"
   ]
  },
  {
   "cell_type": "markdown",
   "metadata": {},
   "source": [
    "#### II.1. Initial parameters and complexity\n",
    "\n",
    "We want to test the benefit of parameters (thetas) initialization and the complexity of the model.\n",
    "To do this, five models were trained in order to recover the training and validation errors. \n",
    "The tested models are:\n",
    "- **Log0**: A single neuron (logistic regression) with initialization 0\n",
    "- **LogR**: A single neuron (logistic regression) with random initialization\n",
    "- **NN0**: A 4(relu)X2(relu)X1(sigmoid) neural network with initialization 0\n",
    "- **NN1**: A 4(relu)X2(relu)X1(sigmoid) neural network with initialization 1\n",
    "- **NNR**: A 4(relu)X2(relu)X1(sigmoid) neural network with random initialization"
   ]
  },
  {
   "cell_type": "code",
   "execution_count": 8,
   "metadata": {},
   "outputs": [
    {
     "name": "stdout",
     "output_type": "stream",
     "text": [
      "Log0 : Training ...\n",
      "LogR : Training ...\n",
      "NN0 : Training ...\n",
      "NN1 : Training ...\n",
      "NNR : Training ...\n"
     ]
    },
    {
     "data": {
      "image/png": "[encoded data removed]",
      "text/plain": [
       "<Figure size 1600x500 with 2 Axes>"
      ]
     },
     "metadata": {},
     "output_type": "display_data"
    }
   ],
   "source": [
    "alpha  = 0.01\n",
    "NBR_IT = 200\n",
    "\n",
    "M, N = X_train.shape\n",
    "\n",
    "# ==================================\n",
    "# Définition des modèles\n",
    "# ==================================\n",
    "\n",
    "models = {}\n",
    "\n",
    "models['Log0'] = Sequential()\n",
    "models['Log0'].add(Dense(1, activation=\"sigmoid\", kernel_initializer='zero', bias_initializer='zeros'))\n",
    "\n",
    "models['LogR'] = Sequential()\n",
    "models['LogR'].add(Dense(1, activation=\"sigmoid\", kernel_initializer='glorot_uniform', bias_initializer='glorot_uniform'))\n",
    "\n",
    "models['NN0']  = Sequential()\n",
    "models['NN0'].add(Dense(4, activation=\"relu\", kernel_initializer='zero', bias_initializer='zeros'))\n",
    "models['NN0'].add(Dense(2, activation=\"relu\", kernel_initializer='zero', bias_initializer='zeros'))\n",
    "models['NN0'].add(Dense(1, activation=\"sigmoid\", kernel_initializer='zero', bias_initializer='zeros'))\n",
    "\n",
    "models['NN1']  = Sequential()\n",
    "models['NN1'].add(Dense(4, activation=\"relu\", kernel_initializer='one', bias_initializer='one'))\n",
    "models['NN1'].add(Dense(2, activation=\"relu\", kernel_initializer='one', bias_initializer='one'))\n",
    "models['NN1'].add(Dense(1, activation=\"sigmoid\", kernel_initializer='one', bias_initializer='one'))\n",
    "\n",
    "models['NNR']  = Sequential()\n",
    "models['NNR'].add(Dense(4, activation=\"relu\", kernel_initializer='glorot_uniform', bias_initializer='glorot_uniform'))\n",
    "models['NNR'].add(Dense(2, activation=\"relu\", kernel_initializer='glorot_uniform', bias_initializer='glorot_uniform'))\n",
    "models['NNR'].add(Dense(1, activation=\"sigmoid\", kernel_initializer='glorot_uniform', bias_initializer='glorot_uniform'))\n",
    "\n",
    "# ====================================\n",
    "# Model training\n",
    "# ====================================\n",
    "\n",
    "# we do not display the first 3 iterations, until the model stabilizes\n",
    "# otherwise, one model may have great value compared to others \n",
    "# therefore, we cannot visualize the convergence of the others\n",
    "IT_range = range(NBR_IT)[3:]\n",
    "fig, (ax1, ax2) = plt.subplots(1, 2, figsize=(16,5))\n",
    "\n",
    "\n",
    "for name, model in models.items():\n",
    "    model.compile(loss      = tf.keras.losses.binary_crossentropy,\n",
    "                 optimizer = tf.keras.optimizers.SGD(learning_rate=alpha))\n",
    "    print(name, ': Training ...')\n",
    "    results = model.fit(X_trains, Y_train, epochs=NBR_IT, validation_data=(X_tests, Y_test), verbose=0)\n",
    "    \n",
    "    # ===========================\n",
    "    # PREPARATION OF THE PLOT\n",
    "    # ===========================\n",
    "    ax1.plot(IT_range, results.history[\"loss\"    ][3:], label=name)\n",
    "    ax2.plot(IT_range, results.history[\"val_loss\"][3:], label=name)\n",
    "\n",
    "# ==================================\n",
    "# PLOT \n",
    "# ==================================\n",
    "\n",
    "ax1.title.set_text(\"Training\")\n",
    "ax2.title.set_text(\"Validation\")\n",
    "\n",
    "ax1.set(xlabel='iteration', ylabel='error')\n",
    "ax2.set(xlabel='iteration', ylabel='error')\n",
    "\n",
    "ax1.legend()\n",
    "ax2.legend()\n",
    "plt.show()"
   ]
  },
  {
   "cell_type": "markdown",
   "metadata": {},
   "source": [
    "**TODO: Analyze the results**\n",
    "\n",
    "1. We notice that single-neuron models are faster than neural network models (in terms of iterations and in terms of time). Why?\n",
    "1. We notice that **NN0** does not improve (it stagnates from the first iterations). Explain why.\n",
    "1. We notice that **NN1** improves compared to **NN0**, but it quickly stagnates compared to **NNR**. Explain why.\n",
    "1. Based on validation, what is the relationship between the number of layers, the complexity of the problem, the number/quality of data and the learning problems (under/over). Mention 4 combinations that may cause problems.\n",
    "\n",
    "**Answers**\n",
    "\n",
    "1. Single-neuron models are faster because they have fewer parameters and simpler computations compared to neural networks. ALso logistic regression involves basic operations (one activation and one output), whereas neural networks require multiple matrix multiplications, activations, and gradient computations for each layer.\n",
    "1. NN0 stagnates because initializing weights to 0 causes all neurons in the same layer to compute identical outputs and gradients. This symmetry prevents the network from learning distinct features, as all weights are updated uniformly.\n",
    "1. NN1 improves over NN0 because weights are non-zero, breaking symmetry and enabling some learning. However, initializing all weights to 1 leads to excessively large activations, especially with ReLU, causing saturation in neurons and vanishing gradients. NNR avoids these issues by using random initialization techniques like Xavier or He, enabling better gradient flow and learning.\n",
    "1. The number of layers must match the problem's complexity and available data to avoid underfitting or overfitting. For example, a shallow network underfits complex problems, while a deep network overfits small datasets. Poor initialization, noisy data, or excessive complexity can also cause learning failures, highlighting the need for proper model and data alignment."
   ]
  },
  {
   "cell_type": "markdown",
   "metadata": {},
   "source": [
    "#### II.2. Activation functions\n",
    "\n",
    "We want to test which activation functions are more appropriate for the hidden layers and which ones for the output layer.\n",
    "To do this, five models were trained in order to recover the history of the training error. \n",
    "The tested models are:\n",
    "- **relu->sigm**: a network with **relu** in the hidden layers and **sigmoid** in the output layer\n",
    "- **sigm->sigm**: a network with **sigmoid** in the hidden layers and **sigmoid** in the output layer\n",
    "- **tanh->sigm**: a network with **tanh** in the hidden layers and **sigmoid** in the output layer\n",
    "- **sigm->relu**: a network with **sigmoid** in the hidden layers and **relu** in the output layer\n",
    "- **relu->relu**: a network with **relu** in the hidden layers and **relu** in the output layer"
   ]
  },
  {
   "cell_type": "code",
   "execution_count": 18,
   "metadata": {},
   "outputs": [
    {
     "name": "stdout",
     "output_type": "stream",
     "text": [
      "relu->sigm : Training ...\n",
      "sigm->sigm : Training ...\n",
      "tanh->sigm : Training ...\n",
      "sigm->relu : Training ...\n",
      "relu->relu : Training ...\n"
     ]
    },
    {
     "data": {
      "image/png": "[encoded data removed]",
      "text/plain": [
       "<Figure size 1600x500 with 2 Axes>"
      ]
     },
     "metadata": {},
     "output_type": "display_data"
    }
   ],
   "source": [
    "alpha  = 0.01\n",
    "NBR_IT = 100\n",
    "\n",
    "M, N = X_train.shape\n",
    "\n",
    "L1 = 2 # Number of neurons in layer 1\n",
    "L2 = 2 # Number of neurons in layer 2\n",
    "\n",
    "# ==================================\n",
    "# Models' design\n",
    "# ==================================\n",
    "\n",
    "defs = [ \n",
    "    ('relu->sigm', 'relu', 'sigmoid'),\n",
    "    ('sigm->sigm', 'sigmoid', 'sigmoid'),\n",
    "    ('tanh->sigm', 'tanh', 'sigmoid'),\n",
    "    ('sigm->relu', 'sigmoid', 'relu'),\n",
    "    ('relu->relu', 'relu', 'relu')\n",
    "]\n",
    "\n",
    "models = {}\n",
    "params = {'kernel_initializer':'glorot_uniform', 'bias_initializer':'glorot_uniform'}\n",
    "\n",
    "for name, in_act, out_act in defs:\n",
    "    models[name] = Sequential()\n",
    "    models[name].add(Dense(L1, activation = in_act , **params))\n",
    "    models[name].add(Dense(L2, activation = in_act , **params))\n",
    "    models[name].add(Dense(1,  activation = out_act, **params))\n",
    "\n",
    "# ==================================\n",
    "# Models' training\n",
    "# ==================================\n",
    "\n",
    "results = {}\n",
    "\n",
    "for name, model in models.items():\n",
    "    model.compile(loss      = tf.keras.losses.binary_crossentropy,\n",
    "                  optimizer = tf.keras.optimizers.SGD(learning_rate=alpha))\n",
    "    print(name, ': Training ...')\n",
    "    results[name] = model.fit(X_trains, Y_train, epochs=NBR_IT, verbose=0)\n",
    "    \n",
    "\n",
    "# ==================================\n",
    "# Plot \n",
    "# ==================================\n",
    "\n",
    "fig, (ax1, ax2) = plt.subplots(1, 2, figsize=(16,5))\n",
    "\n",
    "for nom, result in results.items():\n",
    "    ax = ax1 if nom.endswith('sigm') else ax2\n",
    "    ax.plot(range(NBR_IT), result.history['loss'], label=nom)\n",
    "    \n",
    "ax1.legend()\n",
    "ax2.legend()\n",
    "plt.xlabel(\"iteration\")\n",
    "plt.ylabel(\"error\")\n",
    "plt.legend()\n",
    "plt.show()"
   ]
  },
  {
   "cell_type": "markdown",
   "metadata": {},
   "source": [
    "**TODO: Analyze the results**\n",
    "\n",
    "1. We notice that the **sigmoid->sigmoid** model stagnated quickly. Explain how?\n",
    "1. We notice that this model converged more quickly (in terms of number of iterations) compared to the two models with **sigmoid** output. Why?\n",
    "1. We notice that the models with **relu** output are not stable; at each execution, we will have a different diagram (sometimes improvement, sometimes deterioration, etc.). It should be noted that random initialization is not the source of the problem since there are other similar but stable models. So why did they behave like this?\n",
    "\n",
    "**Answers**\n",
    "\n",
    "1. The sigmoid->sigmoid model stagnated because the sigmoid function squashes inputs into the [0,1] range, leading to vanishing gradients when backpropagating through layers. \n",
    "1. Models without a sigmoid output converge faster because sigmoid's saturation slows learning. In the saturated regions, where activations are close to 0 or 1, gradients become very small, hindering weight updates. Activation functions like ReLU or tanh avoid this issue by maintaining non-zero gradients across a broader range, enabling quicker error minimization.\n",
    "1. ReLU as an output activation is unstable because it is unbounded, allowing for extremely large activations. These large outputs can amplify errors during backpropagation, leading to oscillations or exploding gradients."
   ]
  },
  {
   "cell_type": "markdown",
   "metadata": {},
   "source": [
    "#### II.3. Optimisation functions\n",
    "\n",
    "We want to test different optimization functions.\n",
    "To do this, four models were trained in order to recover the history of the training error. \n",
    "The tested models are:\n",
    "- **GD**: a network trained with gradient descent\n",
    "- **Adagrad**: a network trained with AdaGrad\n",
    "- **RMSprop**: a network trained with RMSprop\n",
    "- **Adam**: a network trained with Adam"
   ]
  },
  {
   "cell_type": "code",
   "execution_count": 19,
   "metadata": {},
   "outputs": [
    {
     "name": "stdout",
     "output_type": "stream",
     "text": [
      "GD : Training ...\n",
      "Adagrad : Training ...\n",
      "RMSprop : Training ...\n",
      "Adam : Training ...\n"
     ]
    },
    {
     "data": {
      "image/png": "[encoded data removed]",
      "text/plain": [
       "<Figure size 640x480 with 1 Axes>"
      ]
     },
     "metadata": {},
     "output_type": "display_data"
    }
   ],
   "source": [
    "alpha  = 0.01\n",
    "NBR_IT = 300\n",
    "\n",
    "M, N = X_train.shape\n",
    "\n",
    "L1 = 2\n",
    "L2 = 2\n",
    "\n",
    "# we do not display the first 3 iterations, until the model stabilizes\n",
    "# otherwise, one model may have great value compared to others \n",
    "# therefore, we cannot visualize the convergence of the others\n",
    "IT_range = range(NBR_IT)[3:]\n",
    "\n",
    "defs = [ # Definitions\n",
    "    ('GD'     , tf.keras.optimizers.SGD    (learning_rate=alpha)),\n",
    "    ('Adagrad', tf.keras.optimizers.Adagrad(learning_rate=alpha)),\n",
    "    ('RMSprop', tf.keras.optimizers.RMSprop(learning_rate=alpha)),\n",
    "    ('Adam'   , tf.keras.optimizers.Adam   (learning_rate=alpha))\n",
    "]\n",
    "\n",
    "params = {'kernel_initializer':'glorot_uniform', 'bias_initializer':'glorot_uniform'}\n",
    "\n",
    "for name, opt in defs:\n",
    "    model = Sequential()\n",
    "    model.add(Dense(L1, activation=\"relu\"   , **params))\n",
    "    model.add(Dense(L2, activation=\"relu\"   , **params))\n",
    "    model.add(Dense(1,  activation=\"sigmoid\", **params))\n",
    "    model.compile(loss = tf.keras.losses.binary_crossentropy, optimizer = opt)\n",
    "    \n",
    "    print(name, ': Training ...')\n",
    "    results = model.fit(X_trains, Y_train, epochs=NBR_IT, verbose=0)\n",
    "    plt.plot(IT_range, results.history[\"loss\"][3:], label=nom)\n",
    "\n",
    "\n",
    "plt.xlabel(\"iteration\")\n",
    "plt.ylabel(\"error\")\n",
    "plt.legend()\n",
    "plt.show()"
   ]
  },
  {
   "cell_type": "markdown",
   "metadata": {},
   "source": [
    "**TODO: Analyze the results**\n",
    "\n",
    "1. We notice that the **GD** model converges faster than **AdaGrad**. Why?\n",
    "1. Why does **RMSprop** converge faster than **AdaGrad**, yet their equations are almost similar? (here you have to explain the contribution in the equation of the first compared to the second)\n",
    "1. By running this code several times, we notice that Adam is more stable. Why?\n",
    "\n",
    "**Answers**\n",
    "\n",
    "1. GD often converges faster initially because it uses a consistent learning rate throughout training, allowing steady progress in well-scaled problems. In contrast, AdaGrad adapts the learning rate based on the accumulation of past gradients, which can make the learning rate decrease too quickly, slowing convergence over time. This conservative adjustment can hinder AdaGrad in later iterations, especially in deep networks.\n",
    "1. RMSprop and AdaGrad both use gradient magnitudes to adapt the learning rate, but RMSprop incorporates an exponential moving average (EMA) of past squared gradients, rather than a cumulative sum. This prevents the learning rate from shrinking too quickly, as it \"forgets\" older gradients.\n",
    "1. Adam combines the benefits of RMSprop (adaptive learning rates via EMA) and Momentum (smoothing gradients with a moving average of past gradients), making it robust to noisy updates and variations.\n"
   ]
  },
  {
   "cell_type": "code",
   "execution_count": 20,
   "metadata": {},
   "outputs": [
    {
     "name": "stdout",
     "output_type": "stream",
     "text": [
      "Good luck\n"
     ]
    }
   ],
   "source": [
    "print('Good luck')"
   ]
  }
 ],
 "metadata": {
  "kernelspec": {
   "display_name": ".venv",
   "language": "python",
   "name": "python3"
  },
  "language_info": {
   "codemirror_mode": {
    "name": "ipython",
    "version": 3
   },
   "file_extension": ".py",
   "mimetype": "text/x-python",
   "name": "python",
   "nbconvert_exporter": "python",
   "pygments_lexer": "ipython3",
   "version": "3.12.3"
  }
 },
 "nbformat": 4,
 "nbformat_minor": 2
}
